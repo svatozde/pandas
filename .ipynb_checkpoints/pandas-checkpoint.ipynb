{
 "cells": [
  {
   "cell_type": "markdown",
   "metadata": {
    "collapsed": true
   },
   "source": []
  },
  {
   "cell_type": "code",
   "execution_count": 156,
   "metadata": {},
   "outputs": [],
   "source": [
    "import pandas as pd\n",
    "import explanations as ex\n",
    "import matplotlib\n",
    "%matplotlib inline\n",
    "import matplotlib.pyplot as plt\n"
   ]
  },
  {
   "cell_type": "code",
   "execution_count": 125,
   "metadata": {},
   "outputs": [
    {
     "data": {
      "text/html": [
       "<div>\n",
       "<style scoped>\n",
       "    .dataframe tbody tr th:only-of-type {\n",
       "        vertical-align: middle;\n",
       "    }\n",
       "\n",
       "    .dataframe tbody tr th {\n",
       "        vertical-align: top;\n",
       "    }\n",
       "\n",
       "    .dataframe thead th {\n",
       "        text-align: right;\n",
       "    }\n",
       "</style>\n",
       "<table border=\"1\" class=\"dataframe\">\n",
       "  <thead>\n",
       "    <tr style=\"text-align: right;\">\n",
       "      <th></th>\n",
       "      <th>identifikacni_cislo</th>\n",
       "      <th>kategorie_chodce</th>\n",
       "      <th>stav_chodce</th>\n",
       "      <th>chovani_chodce</th>\n",
       "      <th>situace_v_miste_nehody</th>\n",
       "    </tr>\n",
       "  </thead>\n",
       "  <tbody>\n",
       "    <tr>\n",
       "      <th>0</th>\n",
       "      <td>2100180003</td>\n",
       "      <td>2</td>\n",
       "      <td>9</td>\n",
       "      <td>3</td>\n",
       "      <td>0</td>\n",
       "    </tr>\n",
       "    <tr>\n",
       "      <th>1</th>\n",
       "      <td>2100180007</td>\n",
       "      <td>2</td>\n",
       "      <td>1</td>\n",
       "      <td>1</td>\n",
       "      <td>4</td>\n",
       "    </tr>\n",
       "    <tr>\n",
       "      <th>2</th>\n",
       "      <td>2100180039</td>\n",
       "      <td>1</td>\n",
       "      <td>9</td>\n",
       "      <td>3</td>\n",
       "      <td>0</td>\n",
       "    </tr>\n",
       "    <tr>\n",
       "      <th>3</th>\n",
       "      <td>2100180047</td>\n",
       "      <td>1</td>\n",
       "      <td>2</td>\n",
       "      <td>3</td>\n",
       "      <td>0</td>\n",
       "    </tr>\n",
       "    <tr>\n",
       "      <th>4</th>\n",
       "      <td>2100180051</td>\n",
       "      <td>2</td>\n",
       "      <td>1</td>\n",
       "      <td>1</td>\n",
       "      <td>4</td>\n",
       "    </tr>\n",
       "  </tbody>\n",
       "</table>\n",
       "</div>"
      ],
      "text/plain": [
       "   identifikacni_cislo  kategorie_chodce  stav_chodce  chovani_chodce  \\\n",
       "0           2100180003                 2            9               3   \n",
       "1           2100180007                 2            1               1   \n",
       "2           2100180039                 1            9               3   \n",
       "3           2100180047                 1            2               3   \n",
       "4           2100180051                 2            1               1   \n",
       "\n",
       "   situace_v_miste_nehody  \n",
       "0                       0  \n",
       "1                       4  \n",
       "2                       0  \n",
       "3                       0  \n",
       "4                       4  "
      ]
     },
     "execution_count": 125,
     "metadata": {},
     "output_type": "execute_result"
    }
   ],
   "source": [
    "chodci = pd.read_csv('data/CHODCI.csv',sep=';',encoding='iso-8859-2',names =ex.ped_columns)\n",
    "chodci.head()"
   ]
  },
  {
   "cell_type": "code",
   "execution_count": 167,
   "metadata": {},
   "outputs": [
    {
     "data": {
      "text/html": [
       "<div>\n",
       "<style scoped>\n",
       "    .dataframe tbody tr th:only-of-type {\n",
       "        vertical-align: middle;\n",
       "    }\n",
       "\n",
       "    .dataframe tbody tr th {\n",
       "        vertical-align: top;\n",
       "    }\n",
       "\n",
       "    .dataframe thead th {\n",
       "        text-align: right;\n",
       "    }\n",
       "</style>\n",
       "<table border=\"1\" class=\"dataframe\">\n",
       "  <thead>\n",
       "    <tr style=\"text-align: right;\">\n",
       "      <th></th>\n",
       "      <th>identifikacni_cislo</th>\n",
       "      <th>druh_pozemni_komunikace</th>\n",
       "      <th>cislo_pozemni_komunikace</th>\n",
       "      <th>den_mesic_rok</th>\n",
       "      <th>weekday(p2a)</th>\n",
       "      <th>cas</th>\n",
       "      <th>druh_nehody</th>\n",
       "      <th>druh_srazky_jedoucich_vozidel</th>\n",
       "      <th>druh_pevne_prekazky</th>\n",
       "      <th>charakter_nehody</th>\n",
       "      <th>...</th>\n",
       "      <th>q</th>\n",
       "      <th>r</th>\n",
       "      <th>s</th>\n",
       "      <th>t</th>\n",
       "      <th>lokalita_nehody</th>\n",
       "      <th>kraj</th>\n",
       "      <th>kategorie_chodce</th>\n",
       "      <th>stav_chodce</th>\n",
       "      <th>chovani_chodce</th>\n",
       "      <th>situace_v_miste_nehody</th>\n",
       "    </tr>\n",
       "  </thead>\n",
       "  <tbody>\n",
       "    <tr>\n",
       "      <th>0</th>\n",
       "      <td>2100180001</td>\n",
       "      <td>6</td>\n",
       "      <td>NaN</td>\n",
       "      <td>2018-01-01</td>\n",
       "      <td>1</td>\n",
       "      <td>2356</td>\n",
       "      <td>1</td>\n",
       "      <td>4</td>\n",
       "      <td>0</td>\n",
       "      <td>2</td>\n",
       "      <td>...</td>\n",
       "      <td>NaN</td>\n",
       "      <td>NaN</td>\n",
       "      <td>NaN</td>\n",
       "      <td>NaN</td>\n",
       "      <td>1</td>\n",
       "      <td>nehody na území hl. m. Prahy</td>\n",
       "      <td>NaN</td>\n",
       "      <td>NaN</td>\n",
       "      <td>NaN</td>\n",
       "      <td>NaN</td>\n",
       "    </tr>\n",
       "    <tr>\n",
       "      <th>1</th>\n",
       "      <td>2100180002</td>\n",
       "      <td>5</td>\n",
       "      <td>NaN</td>\n",
       "      <td>2018-01-01</td>\n",
       "      <td>1</td>\n",
       "      <td>50</td>\n",
       "      <td>3</td>\n",
       "      <td>0</td>\n",
       "      <td>2</td>\n",
       "      <td>2</td>\n",
       "      <td>...</td>\n",
       "      <td>NaN</td>\n",
       "      <td>NaN</td>\n",
       "      <td>NaN</td>\n",
       "      <td>NaN</td>\n",
       "      <td>1</td>\n",
       "      <td>nehody na území hl. m. Prahy</td>\n",
       "      <td>NaN</td>\n",
       "      <td>NaN</td>\n",
       "      <td>NaN</td>\n",
       "      <td>NaN</td>\n",
       "    </tr>\n",
       "    <tr>\n",
       "      <th>2</th>\n",
       "      <td>2100180003</td>\n",
       "      <td>8</td>\n",
       "      <td>NaN</td>\n",
       "      <td>2018-01-01</td>\n",
       "      <td>1</td>\n",
       "      <td>40</td>\n",
       "      <td>4</td>\n",
       "      <td>0</td>\n",
       "      <td>0</td>\n",
       "      <td>1</td>\n",
       "      <td>...</td>\n",
       "      <td>NaN</td>\n",
       "      <td>NaN</td>\n",
       "      <td>NaN</td>\n",
       "      <td>NaN</td>\n",
       "      <td>1</td>\n",
       "      <td>nehody na území hl. m. Prahy</td>\n",
       "      <td>2.0</td>\n",
       "      <td>9.0</td>\n",
       "      <td>3.0</td>\n",
       "      <td>0.0</td>\n",
       "    </tr>\n",
       "    <tr>\n",
       "      <th>3</th>\n",
       "      <td>2100180004</td>\n",
       "      <td>5</td>\n",
       "      <td>NaN</td>\n",
       "      <td>2018-01-01</td>\n",
       "      <td>1</td>\n",
       "      <td>114</td>\n",
       "      <td>1</td>\n",
       "      <td>4</td>\n",
       "      <td>0</td>\n",
       "      <td>2</td>\n",
       "      <td>...</td>\n",
       "      <td>NaN</td>\n",
       "      <td>NaN</td>\n",
       "      <td>NaN</td>\n",
       "      <td>NaN</td>\n",
       "      <td>1</td>\n",
       "      <td>nehody na území hl. m. Prahy</td>\n",
       "      <td>NaN</td>\n",
       "      <td>NaN</td>\n",
       "      <td>NaN</td>\n",
       "      <td>NaN</td>\n",
       "    </tr>\n",
       "    <tr>\n",
       "      <th>4</th>\n",
       "      <td>2100180005</td>\n",
       "      <td>6</td>\n",
       "      <td>NaN</td>\n",
       "      <td>2018-01-01</td>\n",
       "      <td>1</td>\n",
       "      <td>232</td>\n",
       "      <td>3</td>\n",
       "      <td>0</td>\n",
       "      <td>4</td>\n",
       "      <td>1</td>\n",
       "      <td>...</td>\n",
       "      <td>NaN</td>\n",
       "      <td>NaN</td>\n",
       "      <td>NaN</td>\n",
       "      <td>NaN</td>\n",
       "      <td>1</td>\n",
       "      <td>nehody na území hl. m. Prahy</td>\n",
       "      <td>NaN</td>\n",
       "      <td>NaN</td>\n",
       "      <td>NaN</td>\n",
       "      <td>NaN</td>\n",
       "    </tr>\n",
       "  </tbody>\n",
       "</table>\n",
       "<p>5 rows × 69 columns</p>\n",
       "</div>"
      ],
      "text/plain": [
       "   identifikacni_cislo  druh_pozemni_komunikace  cislo_pozemni_komunikace  \\\n",
       "0           2100180001                        6                       NaN   \n",
       "1           2100180002                        5                       NaN   \n",
       "2           2100180003                        8                       NaN   \n",
       "3           2100180004                        5                       NaN   \n",
       "4           2100180005                        6                       NaN   \n",
       "\n",
       "  den_mesic_rok  weekday(p2a)   cas  druh_nehody  \\\n",
       "0    2018-01-01             1  2356            1   \n",
       "1    2018-01-01             1    50            3   \n",
       "2    2018-01-01             1    40            4   \n",
       "3    2018-01-01             1   114            1   \n",
       "4    2018-01-01             1   232            3   \n",
       "\n",
       "   druh_srazky_jedoucich_vozidel  druh_pevne_prekazky  charakter_nehody  ...  \\\n",
       "0                              4                    0                 2  ...   \n",
       "1                              0                    2                 2  ...   \n",
       "2                              0                    0                 1  ...   \n",
       "3                              4                    0                 2  ...   \n",
       "4                              0                    4                 1  ...   \n",
       "\n",
       "     q   r   s    t  lokalita_nehody                          kraj  \\\n",
       "0  NaN NaN NaN  NaN                1  nehody na území hl. m. Prahy   \n",
       "1  NaN NaN NaN  NaN                1  nehody na území hl. m. Prahy   \n",
       "2  NaN NaN NaN  NaN                1  nehody na území hl. m. Prahy   \n",
       "3  NaN NaN NaN  NaN                1  nehody na území hl. m. Prahy   \n",
       "4  NaN NaN NaN  NaN                1  nehody na území hl. m. Prahy   \n",
       "\n",
       "   kategorie_chodce  stav_chodce  chovani_chodce  situace_v_miste_nehody  \n",
       "0               NaN          NaN             NaN                     NaN  \n",
       "1               NaN          NaN             NaN                     NaN  \n",
       "2               2.0          9.0             3.0                     0.0  \n",
       "3               NaN          NaN             NaN                     NaN  \n",
       "4               NaN          NaN             NaN                     NaN  \n",
       "\n",
       "[5 rows x 69 columns]"
      ]
     },
     "execution_count": 167,
     "metadata": {},
     "output_type": "execute_result"
    }
   ],
   "source": [
    "li = []\n",
    "\n",
    "for filename in ex.file_names:\n",
    "    df = pd.read_csv('data/'+filename,sep=';',encoding='iso-8859-2', index_col=None, names=ex.main_columns)\n",
    "    df['kraj'] = ex.file_names[filename]\n",
    "    li.append(df)\n",
    "\n",
    "t = pd.concat(li, axis=0, ignore_index=True)\n",
    "\n",
    "\n",
    "chodci = pd.read_csv('data/CHODCI.csv',sep=';',encoding='iso-8859-2', index_col=None, names=ex.ped_columns)\n",
    "\n",
    "t = pd.merge(t, chodci, left_on='identifikacni_cislo', right_on='identifikacni_cislo', how='left')\n",
    "\n",
    "t.head()"
   ]
  },
  {
   "cell_type": "markdown",
   "metadata": {},
   "source": [
    "Kolik nehod v roce 2018 PČR zaznamenala?"
   ]
  },
  {
   "cell_type": "code",
   "execution_count": 168,
   "metadata": {},
   "outputs": [
    {
     "data": {
      "text/plain": [
       "identifikacni_cislo         104764\n",
       "druh_pozemni_komunikace          9\n",
       "cislo_pozemni_komunikace      4268\n",
       "den_mesic_rok                  365\n",
       "weekday(p2a)                     7\n",
       "                             ...  \n",
       "kraj                            14\n",
       "kategorie_chodce                 5\n",
       "stav_chodce                     10\n",
       "chovani_chodce                   9\n",
       "situace_v_miste_nehody          11\n",
       "Length: 69, dtype: int64"
      ]
     },
     "execution_count": 168,
     "metadata": {},
     "output_type": "execute_result"
    }
   ],
   "source": [
    "t.nunique()"
   ]
  },
  {
   "cell_type": "code",
   "execution_count": 169,
   "metadata": {},
   "outputs": [
    {
     "data": {
      "text/plain": [
       "identifikacni_cislo         104765\n",
       "druh_pozemni_komunikace     104765\n",
       "cislo_pozemni_komunikace     47490\n",
       "den_mesic_rok               104765\n",
       "weekday(p2a)                104765\n",
       "                             ...  \n",
       "kraj                        104765\n",
       "kategorie_chodce              3732\n",
       "stav_chodce                   3732\n",
       "chovani_chodce                3732\n",
       "situace_v_miste_nehody        3732\n",
       "Length: 69, dtype: int64"
      ]
     },
     "execution_count": 169,
     "metadata": {},
     "output_type": "execute_result"
    }
   ],
   "source": [
    "t.count()"
   ]
  },
  {
   "cell_type": "markdown",
   "metadata": {},
   "source": [
    "PČR zaznamenala **104764**nehod."
   ]
  },
  {
   "cell_type": "markdown",
   "metadata": {},
   "source": [
    "Kolik procent zaznamenaných nehod bylo smrtelných?"
   ]
  },
  {
   "cell_type": "code",
   "execution_count": 170,
   "metadata": {},
   "outputs": [
    {
     "data": {
      "text/plain": [
       "0.4858492817257672"
      ]
     },
     "execution_count": 170,
     "metadata": {},
     "output_type": "execute_result"
    }
   ],
   "source": [
    "(t[t['usmrceno_osob'] > 0]['identifikacni_cislo'].count() / t['identifikacni_cislo'].count())*100"
   ]
  },
  {
   "cell_type": "markdown",
   "metadata": {},
   "source": [
    "Pouze **0.4858%** procent nehod bylo smrtelných."
   ]
  },
  {
   "cell_type": "markdown",
   "metadata": {},
   "source": [
    "Kolik lidí zemřelo při srážce s odrazníkem, patníkem, sloupkem dopravní značky apod.?"
   ]
  },
  {
   "cell_type": "code",
   "execution_count": 171,
   "metadata": {},
   "outputs": [
    {
     "data": {
      "text/plain": [
       "0"
      ]
     },
     "execution_count": 171,
     "metadata": {},
     "output_type": "execute_result"
    }
   ],
   "source": [
    "t[(t['usmrceno_osob'] > 0) & t['druh_pevne_prekazky'] == 3 ]['identifikacni_cislo'].count()"
   ]
  },
  {
   "cell_type": "markdown",
   "metadata": {},
   "source": [
    "Pri srazkach s patniky zemrelo **0** osob."
   ]
  },
  {
   "cell_type": "markdown",
   "metadata": {},
   "source": [
    "Kolik procent zaznamenaných nehod, které se staly na kolejích tramvaje, bylo smrtelných?"
   ]
  },
  {
   "cell_type": "code",
   "execution_count": 174,
   "metadata": {},
   "outputs": [],
   "source": [
    "smrtelnych = t[(t['usmrceno_osob'] > 0) & t['situovani_nehody_na_komunikaci'] == 7 ]['identifikacni_cislo'].count()\n",
    "vsechny = t[t['situovani_nehody_na_komunikaci'] == 7 ]['identifikacni_cislo'].count()\n",
    "\n",
    "procenta = (100*smrtelnych)/vsechny"
   ]
  },
  {
   "cell_type": "code",
   "execution_count": 175,
   "metadata": {},
   "outputs": [
    {
     "data": {
      "text/plain": [
       "0.0"
      ]
     },
     "execution_count": 175,
     "metadata": {},
     "output_type": "execute_result"
    }
   ],
   "source": [
    "procenta"
   ]
  },
  {
   "cell_type": "markdown",
   "metadata": {},
   "source": [
    "Na tramvajovych kolejich nedoslo k **zadne** smrtelne nehode."
   ]
  },
  {
   "cell_type": "markdown",
   "metadata": {},
   "source": [
    "Vyberte časté výrobní značky vozidel (např. Škoda, BMW): ty které se účastnily alespoň padesáti nehod. Vykreslete graf, který pro každou častou výrobní značku ukáže procento nehod v zatáčce (vzhledem k celkovému počtu nehod vozidel této značky)."
   ]
  },
  {
   "cell_type": "code",
   "execution_count": 176,
   "metadata": {},
   "outputs": [
    {
     "data": {
      "text/html": [
       "<div>\n",
       "<style scoped>\n",
       "    .dataframe tbody tr th:only-of-type {\n",
       "        vertical-align: middle;\n",
       "    }\n",
       "\n",
       "    .dataframe tbody tr th {\n",
       "        vertical-align: top;\n",
       "    }\n",
       "\n",
       "    .dataframe thead th {\n",
       "        text-align: right;\n",
       "    }\n",
       "</style>\n",
       "<table border=\"1\" class=\"dataframe\">\n",
       "  <thead>\n",
       "    <tr style=\"text-align: right;\">\n",
       "      <th></th>\n",
       "      <th>identifikacni_cislo</th>\n",
       "      <th>druh_pozemni_komunikace</th>\n",
       "      <th>cislo_pozemni_komunikace</th>\n",
       "      <th>den_mesic_rok</th>\n",
       "      <th>weekday(p2a)</th>\n",
       "      <th>cas</th>\n",
       "      <th>druh_nehody</th>\n",
       "      <th>druh_srazky_jedoucich_vozidel</th>\n",
       "      <th>druh_pevne_prekazky</th>\n",
       "      <th>charakter_nehody</th>\n",
       "      <th>...</th>\n",
       "      <th>q</th>\n",
       "      <th>r</th>\n",
       "      <th>s</th>\n",
       "      <th>t</th>\n",
       "      <th>lokalita_nehody</th>\n",
       "      <th>kraj</th>\n",
       "      <th>kategorie_chodce</th>\n",
       "      <th>stav_chodce</th>\n",
       "      <th>chovani_chodce</th>\n",
       "      <th>situace_v_miste_nehody</th>\n",
       "    </tr>\n",
       "  </thead>\n",
       "  <tbody>\n",
       "    <tr>\n",
       "      <th>0</th>\n",
       "      <td>2100180001</td>\n",
       "      <td>komunikace místní</td>\n",
       "      <td>NaN</td>\n",
       "      <td>2018-01-01</td>\n",
       "      <td>1</td>\n",
       "      <td>2356</td>\n",
       "      <td>srážka; s jedoucím nekolejovým vozidlem</td>\n",
       "      <td>zezadu</td>\n",
       "      <td>nepříchází v úvahu; nejedná se o srážku s pevn...</td>\n",
       "      <td>nehoda; pouze s hmotnou škodou</td>\n",
       "      <td>...</td>\n",
       "      <td>NaN</td>\n",
       "      <td>NaN</td>\n",
       "      <td>NaN</td>\n",
       "      <td>NaN</td>\n",
       "      <td>v obci; vyplňí se i položka p5b</td>\n",
       "      <td>nehody na území hl. m. Prahy</td>\n",
       "      <td>NaN</td>\n",
       "      <td>NaN</td>\n",
       "      <td>NaN</td>\n",
       "      <td>NaN</td>\n",
       "    </tr>\n",
       "    <tr>\n",
       "      <th>1</th>\n",
       "      <td>2100180002</td>\n",
       "      <td>komunikace sledovaná; (ve vybraných městech)</td>\n",
       "      <td>NaN</td>\n",
       "      <td>2018-01-01</td>\n",
       "      <td>1</td>\n",
       "      <td>50</td>\n",
       "      <td>srážka; s pevnou překážkou</td>\n",
       "      <td>nepřichází v úvahu; nejedná se o srážku jedouc...</td>\n",
       "      <td>sloup; telefonní, veřejného osvětlení, elektri...</td>\n",
       "      <td>nehoda; pouze s hmotnou škodou</td>\n",
       "      <td>...</td>\n",
       "      <td>NaN</td>\n",
       "      <td>NaN</td>\n",
       "      <td>NaN</td>\n",
       "      <td>NaN</td>\n",
       "      <td>v obci; vyplňí se i položka p5b</td>\n",
       "      <td>nehody na území hl. m. Prahy</td>\n",
       "      <td>NaN</td>\n",
       "      <td>NaN</td>\n",
       "      <td>NaN</td>\n",
       "      <td>NaN</td>\n",
       "    </tr>\n",
       "    <tr>\n",
       "      <th>2</th>\n",
       "      <td>2100180003</td>\n",
       "      <td>komunikace účelová; ostatní (parkoviště, odpoč...</td>\n",
       "      <td>NaN</td>\n",
       "      <td>2018-01-01</td>\n",
       "      <td>1</td>\n",
       "      <td>40</td>\n",
       "      <td>srážka; s chodcem</td>\n",
       "      <td>nepřichází v úvahu; nejedná se o srážku jedouc...</td>\n",
       "      <td>nepříchází v úvahu; nejedná se o srážku s pevn...</td>\n",
       "      <td>nehoda; s následky na životě</td>\n",
       "      <td>...</td>\n",
       "      <td>NaN</td>\n",
       "      <td>NaN</td>\n",
       "      <td>NaN</td>\n",
       "      <td>NaN</td>\n",
       "      <td>v obci; vyplňí se i položka p5b</td>\n",
       "      <td>nehody na území hl. m. Prahy</td>\n",
       "      <td>žena</td>\n",
       "      <td>pod vlivem alkoholu; obsah alkoholu v krvi 1 ?...</td>\n",
       "      <td>náhlé vstoupení do vozovky; z chodníku, krajnice</td>\n",
       "      <td>jiná situace</td>\n",
       "    </tr>\n",
       "    <tr>\n",
       "      <th>3</th>\n",
       "      <td>2100180004</td>\n",
       "      <td>komunikace sledovaná; (ve vybraných městech)</td>\n",
       "      <td>NaN</td>\n",
       "      <td>2018-01-01</td>\n",
       "      <td>1</td>\n",
       "      <td>114</td>\n",
       "      <td>srážka; s jedoucím nekolejovým vozidlem</td>\n",
       "      <td>zezadu</td>\n",
       "      <td>nepříchází v úvahu; nejedná se o srážku s pevn...</td>\n",
       "      <td>nehoda; pouze s hmotnou škodou</td>\n",
       "      <td>...</td>\n",
       "      <td>NaN</td>\n",
       "      <td>NaN</td>\n",
       "      <td>NaN</td>\n",
       "      <td>NaN</td>\n",
       "      <td>v obci; vyplňí se i položka p5b</td>\n",
       "      <td>nehody na území hl. m. Prahy</td>\n",
       "      <td>NaN</td>\n",
       "      <td>NaN</td>\n",
       "      <td>NaN</td>\n",
       "      <td>NaN</td>\n",
       "    </tr>\n",
       "    <tr>\n",
       "      <th>4</th>\n",
       "      <td>2100180005</td>\n",
       "      <td>komunikace místní</td>\n",
       "      <td>NaN</td>\n",
       "      <td>2018-01-01</td>\n",
       "      <td>1</td>\n",
       "      <td>232</td>\n",
       "      <td>srážka; s pevnou překážkou</td>\n",
       "      <td>nepřichází v úvahu; nejedná se o srážku jedouc...</td>\n",
       "      <td>svodidlo</td>\n",
       "      <td>nehoda; s následky na životě</td>\n",
       "      <td>...</td>\n",
       "      <td>NaN</td>\n",
       "      <td>NaN</td>\n",
       "      <td>NaN</td>\n",
       "      <td>NaN</td>\n",
       "      <td>v obci; vyplňí se i položka p5b</td>\n",
       "      <td>nehody na území hl. m. Prahy</td>\n",
       "      <td>NaN</td>\n",
       "      <td>NaN</td>\n",
       "      <td>NaN</td>\n",
       "      <td>NaN</td>\n",
       "    </tr>\n",
       "  </tbody>\n",
       "</table>\n",
       "<p>5 rows × 69 columns</p>\n",
       "</div>"
      ],
      "text/plain": [
       "   identifikacni_cislo                            druh_pozemni_komunikace  \\\n",
       "0           2100180001                                  komunikace místní   \n",
       "1           2100180002       komunikace sledovaná; (ve vybraných městech)   \n",
       "2           2100180003  komunikace účelová; ostatní (parkoviště, odpoč...   \n",
       "3           2100180004       komunikace sledovaná; (ve vybraných městech)   \n",
       "4           2100180005                                  komunikace místní   \n",
       "\n",
       "   cislo_pozemni_komunikace den_mesic_rok  weekday(p2a)   cas  \\\n",
       "0                       NaN    2018-01-01             1  2356   \n",
       "1                       NaN    2018-01-01             1    50   \n",
       "2                       NaN    2018-01-01             1    40   \n",
       "3                       NaN    2018-01-01             1   114   \n",
       "4                       NaN    2018-01-01             1   232   \n",
       "\n",
       "                               druh_nehody  \\\n",
       "0  srážka; s jedoucím nekolejovým vozidlem   \n",
       "1               srážka; s pevnou překážkou   \n",
       "2                        srážka; s chodcem   \n",
       "3  srážka; s jedoucím nekolejovým vozidlem   \n",
       "4               srážka; s pevnou překážkou   \n",
       "\n",
       "                       druh_srazky_jedoucich_vozidel  \\\n",
       "0                                             zezadu   \n",
       "1  nepřichází v úvahu; nejedná se o srážku jedouc...   \n",
       "2  nepřichází v úvahu; nejedná se o srážku jedouc...   \n",
       "3                                             zezadu   \n",
       "4  nepřichází v úvahu; nejedná se o srážku jedouc...   \n",
       "\n",
       "                                 druh_pevne_prekazky  \\\n",
       "0  nepříchází v úvahu; nejedná se o srážku s pevn...   \n",
       "1  sloup; telefonní, veřejného osvětlení, elektri...   \n",
       "2  nepříchází v úvahu; nejedná se o srážku s pevn...   \n",
       "3  nepříchází v úvahu; nejedná se o srážku s pevn...   \n",
       "4                                           svodidlo   \n",
       "\n",
       "                 charakter_nehody  ...    q   r   s    t  \\\n",
       "0  nehoda; pouze s hmotnou škodou  ...  NaN NaN NaN  NaN   \n",
       "1  nehoda; pouze s hmotnou škodou  ...  NaN NaN NaN  NaN   \n",
       "2    nehoda; s následky na životě  ...  NaN NaN NaN  NaN   \n",
       "3  nehoda; pouze s hmotnou škodou  ...  NaN NaN NaN  NaN   \n",
       "4    nehoda; s následky na životě  ...  NaN NaN NaN  NaN   \n",
       "\n",
       "                   lokalita_nehody                          kraj  \\\n",
       "0  v obci; vyplňí se i položka p5b  nehody na území hl. m. Prahy   \n",
       "1  v obci; vyplňí se i položka p5b  nehody na území hl. m. Prahy   \n",
       "2  v obci; vyplňí se i položka p5b  nehody na území hl. m. Prahy   \n",
       "3  v obci; vyplňí se i položka p5b  nehody na území hl. m. Prahy   \n",
       "4  v obci; vyplňí se i položka p5b  nehody na území hl. m. Prahy   \n",
       "\n",
       "   kategorie_chodce                                        stav_chodce  \\\n",
       "0               NaN                                                NaN   \n",
       "1               NaN                                                NaN   \n",
       "2              žena  pod vlivem alkoholu; obsah alkoholu v krvi 1 ?...   \n",
       "3               NaN                                                NaN   \n",
       "4               NaN                                                NaN   \n",
       "\n",
       "                                     chovani_chodce situace_v_miste_nehody  \n",
       "0                                               NaN                    NaN  \n",
       "1                                               NaN                    NaN  \n",
       "2  náhlé vstoupení do vozovky; z chodníku, krajnice           jiná situace  \n",
       "3                                               NaN                    NaN  \n",
       "4                                               NaN                    NaN  \n",
       "\n",
       "[5 rows x 69 columns]"
      ]
     },
     "execution_count": 176,
     "metadata": {},
     "output_type": "execute_result"
    }
   ],
   "source": [
    "def safeMap(dic, val):\n",
    "    if val in dic:\n",
    "        return dic[val]\n",
    "    else:\n",
    "        return val\n",
    "\n",
    "for col in t.columns: \n",
    "    if col in ex.decode_key:\n",
    "        t[col] = t[col].apply(lambda x: safeMap(ex.decode_key[col],x))\n",
    "\n",
    "t.head()"
   ]
  },
  {
   "cell_type": "code",
   "execution_count": 177,
   "metadata": {},
   "outputs": [],
   "source": [
    "t.to_csv(r'data/clean-2018.csv')"
   ]
  },
  {
   "cell_type": "code",
   "execution_count": 192,
   "metadata": {},
   "outputs": [
    {
     "data": {
      "text/plain": [
       "<matplotlib.axes._subplots.AxesSubplot at 0x2bb8ecefe10>"
      ]
     },
     "execution_count": 192,
     "metadata": {},
     "output_type": "execute_result"
    },
    {
     "data": {
      "image/png": "[encoded data removed]",
      "text/plain": [
       "<Figure size 432x288 with 1 Axes>"
      ]
     },
     "metadata": {
      "needs_background": "light"
     },
     "output_type": "display_data"
    }
   ],
   "source": [
    "frequent = t['vyrobni_znacka_motoroveho_vozidla'].value_counts().where(lambda x : x > 50).dropna()\n",
    "frequent.plot('bar',figsize = (20,20))"
   ]
  },
  {
   "cell_type": "code",
   "execution_count": 185,
   "metadata": {},
   "outputs": [
    {
     "name": "stderr",
     "output_type": "stream",
     "text": [
      "C:\\programs\\miniconda\\lib\\site-packages\\ipykernel_launcher.py:1: FutureWarning: `Series.plot()` should not be called with positional arguments, only keyword arguments. The order of positional arguments will change in the future. Use `Series.plot(kind='bar')` instead of `Series.plot('bar',)`.\n",
      "  \"\"\"Entry point for launching an IPython kernel.\n"
     ]
    },
    {
     "data": {
      "text/plain": [
       "<matplotlib.axes._subplots.AxesSubplot at 0x2bb8d9588d0>"
      ]
     },
     "execution_count": 185,
     "metadata": {},
     "output_type": "execute_result"
    },
    {
     "data": {
      "image/png": "[encoded data removed]",
      "text/plain": [
       "<Figure size 1440x1440 with 1 Axes>"
      ]
     },
     "metadata": {
      "needs_background": "light"
     },
     "output_type": "display_data"
    }
   ],
   "source": [
    "t[t['smerove_pomery']=='zatáčka']['vyrobni_znacka_motoroveho_vozidla'].value_counts().where(lambda x : x>500).plot('bar',figsize = (20,20))"
   ]
  },
  {
   "cell_type": "code",
   "execution_count": null,
   "metadata": {},
   "outputs": [],
   "source": []
  }
 ],
 "metadata": {
  "kernelspec": {
   "display_name": "Python 3",
   "language": "python",
   "name": "python3"
  },
  "language_info": {
   "codemirror_mode": {
    "name": "ipython",
    "version": 3
   },
   "file_extension": ".py",
   "mimetype": "text/x-python",
   "name": "python",
   "nbconvert_exporter": "python",
   "pygments_lexer": "ipython3",
   "version": "3.7.3"
  }
 },
 "nbformat": 4,
 "nbformat_minor": 1
}
